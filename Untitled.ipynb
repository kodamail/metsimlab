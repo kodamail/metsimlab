{
 "cells": [
  {
   "cell_type": "code",
   "execution_count": 1,
   "id": "6232b9ea-9f8d-4a72-a117-bd13f9cb2759",
   "metadata": {},
   "outputs": [
    {
     "data": {
      "text/plain": [
       "addv (generic function with 1 method)"
      ]
     },
     "execution_count": 1,
     "metadata": {},
     "output_type": "execute_result"
    }
   ],
   "source": [
    "function addv(x, y)\n",
    "    x = x + y\n",
    "end"
   ]
  },
  {
   "cell_type": "code",
   "execution_count": 2,
   "id": "6398232c-eee0-4310-85cc-5738adc99ff5",
   "metadata": {},
   "outputs": [
    {
     "data": {
      "text/plain": [
       "addvarray! (generic function with 1 method)"
      ]
     },
     "execution_count": 2,
     "metadata": {},
     "output_type": "execute_result"
    }
   ],
   "source": [
    "function addvarray!(x, y)\n",
    "    x[1] = x[1] + y\n",
    "    x[2] = x[2] + y\n",
    "    x[3] = x[3] + y\n",
    "end"
   ]
  },
  {
   "cell_type": "code",
   "execution_count": 3,
   "id": "3ea9f4f2-2ff2-4e4d-9a82-df5de13aeb8a",
   "metadata": {},
   "outputs": [
    {
     "data": {
      "text/plain": [
       "2"
      ]
     },
     "execution_count": 3,
     "metadata": {},
     "output_type": "execute_result"
    }
   ],
   "source": [
    "p=2\n",
    "addv(p,5)\n",
    "p"
   ]
  },
  {
   "cell_type": "code",
   "execution_count": 4,
   "id": "c9b1fa2e-e2f6-4e1e-a27f-33407930393b",
   "metadata": {},
   "outputs": [
    {
     "data": {
      "text/plain": [
       "3-element Vector{Int64}:\n",
       " 1\n",
       " 2\n",
       " 3"
      ]
     },
     "execution_count": 4,
     "metadata": {},
     "output_type": "execute_result"
    }
   ],
   "source": [
    "a=[1,2,3]"
   ]
  },
  {
   "cell_type": "code",
   "execution_count": 5,
   "id": "3297894c-47c5-4393-b826-5cbdba5a0aad",
   "metadata": {},
   "outputs": [
    {
     "data": {
      "text/plain": [
       "4"
      ]
     },
     "execution_count": 5,
     "metadata": {},
     "output_type": "execute_result"
    }
   ],
   "source": [
    "addvarray!(a,3)\n",
    "a[1]"
   ]
  },
  {
   "cell_type": "code",
   "execution_count": 6,
   "id": "6940b843-1217-44ad-8bb3-a0ced3dcd173",
   "metadata": {},
   "outputs": [
    {
     "data": {
      "text/plain": [
       "add (generic function with 1 method)"
      ]
     },
     "execution_count": 6,
     "metadata": {},
     "output_type": "execute_result"
    }
   ],
   "source": [
    "add(x,y) = x + y"
   ]
  },
  {
   "cell_type": "code",
   "execution_count": 23,
   "id": "0c8d5eb7-d9d0-45bb-9c06-6dfc08051d4e",
   "metadata": {},
   "outputs": [
    {
     "data": {
      "text/plain": [
       "factorial (generic function with 1 method)"
      ]
     },
     "execution_count": 23,
     "metadata": {},
     "output_type": "execute_result"
    }
   ],
   "source": [
    "factorial(n::Integer) = n <= 1 ? 1 : n * factorial(n-1)"
   ]
  },
  {
   "cell_type": "code",
   "execution_count": 27,
   "id": "c56c2fe4-244c-4f93-97fc-fa0898cb6e0b",
   "metadata": {},
   "outputs": [
    {
     "data": {
      "text/plain": [
       "120"
      ]
     },
     "execution_count": 27,
     "metadata": {},
     "output_type": "execute_result"
    }
   ],
   "source": [
    "factorial(5)"
   ]
  },
  {
   "cell_type": "code",
   "execution_count": 49,
   "id": "fdd5024c-ff44-4bdf-b4b7-8c38c2f922f3",
   "metadata": {},
   "outputs": [
    {
     "data": {
      "text/plain": [
       "test (generic function with 2 methods)"
      ]
     },
     "execution_count": 49,
     "metadata": {},
     "output_type": "execute_result"
    }
   ],
   "source": [
    "function test(x)\n",
    "    return x^2, sqrt(x)\n",
    "end"
   ]
  },
  {
   "cell_type": "code",
   "execution_count": 53,
   "id": "9c4886e4-72db-455e-8f74-402e3528b86f",
   "metadata": {},
   "outputs": [
    {
     "data": {
      "text/plain": [
       "(4.0, 1.4142135623730951)"
      ]
     },
     "execution_count": 53,
     "metadata": {},
     "output_type": "execute_result"
    }
   ],
   "source": [
    "_, y = test(2.0)"
   ]
  },
  {
   "cell_type": "code",
   "execution_count": 54,
   "id": "9da9419d-928e-41ab-96be-88e027495fc6",
   "metadata": {},
   "outputs": [
    {
     "data": {
      "text/plain": [
       "1.4142135623730951"
      ]
     },
     "execution_count": 54,
     "metadata": {},
     "output_type": "execute_result"
    }
   ],
   "source": [
    "y"
   ]
  }
 ],
 "metadata": {
  "kernelspec": {
   "display_name": "Julia 1.7.1",
   "language": "julia",
   "name": "julia-1.7"
  },
  "language_info": {
   "file_extension": ".jl",
   "mimetype": "application/julia",
   "name": "julia",
   "version": "1.7.1"
  }
 },
 "nbformat": 4,
 "nbformat_minor": 5
}
