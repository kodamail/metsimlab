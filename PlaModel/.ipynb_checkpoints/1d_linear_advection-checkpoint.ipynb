{
 "cells": [
  {
   "cell_type": "code",
   "execution_count": 13,
   "id": "ff90ddbd-e488-4496-9c85-aab1de142fea",
   "metadata": {},
   "outputs": [
    {
     "ename": "LoadError",
     "evalue": "ArgumentError: Package PlaModel not found in current path:\n- Run `import Pkg; Pkg.add(\"PlaModel\")` to install the PlaModel package.\n",
     "output_type": "error",
     "traceback": [
      "ArgumentError: Package PlaModel not found in current path:\n- Run `import Pkg; Pkg.add(\"PlaModel\")` to install the PlaModel package.\n",
      "",
      "Stacktrace:",
      " [1] require(into::Module, mod::Symbol)",
      "   @ Base .\\loading.jl:967",
      " [2] eval",
      "   @ .\\boot.jl:373 [inlined]",
      " [3] include_string(mapexpr::typeof(REPL.softscope), mod::Module, code::String, filename::String)",
      "   @ Base .\\loading.jl:1196"
     ]
    }
   ],
   "source": [
    "import PlaModel"
   ]
  },
  {
   "cell_type": "code",
   "execution_count": 12,
   "id": "04932ebb-e2bd-4c5c-9c32-46e5f9f7a154",
   "metadata": {},
   "outputs": [
    {
     "ename": "LoadError",
     "evalue": "UndefVarError: f not defined",
     "output_type": "error",
     "traceback": [
      "UndefVarError: f not defined",
      "",
      "Stacktrace:",
      " [1] getproperty(x::Module, f::Symbol)",
      "   @ Base .\\Base.jl:35",
      " [2] top-level scope",
      "   @ In[12]:1",
      " [3] eval",
      "   @ .\\boot.jl:373 [inlined]",
      " [4] include_string(mapexpr::typeof(REPL.softscope), mod::Module, code::String, filename::String)",
      "   @ Base .\\loading.jl:1196"
     ]
    }
   ],
   "source": [
    "PlaModel.f()"
   ]
  },
  {
   "cell_type": "code",
   "execution_count": null,
   "id": "daa9d61d-18dc-4740-916c-ea60be393373",
   "metadata": {},
   "outputs": [],
   "source": []
  }
 ],
 "metadata": {
  "kernelspec": {
   "display_name": "Julia 1.7.1",
   "language": "julia",
   "name": "julia-1.7"
  },
  "language_info": {
   "file_extension": ".jl",
   "mimetype": "application/julia",
   "name": "julia",
   "version": "1.7.1"
  }
 },
 "nbformat": 4,
 "nbformat_minor": 5
}
